{
 "cells": [
  {
   "cell_type": "markdown",
   "metadata": {},
   "source": [
    "For the visualization of the people-event network from the CESTA events data\n",
    "    1. csv of events with descriptions\n",
    "    2. each event will become a node (JSON)\n",
    "        event-node\n",
    "        - title: event title from the csv\n",
    "        - info: event info from the csv\n",
    "        - link: also from the csv\n",
    "        - color: different color for each year -> https://identity.stanford.edu/design-elements/color/accent-colors/\n",
    "        - size: smaller than people\n",
    "    3. NER on the event data\n",
    "    4. For each event, identify the unique people in the description\n",
    "    5. each person will become a node\n",
    "        person-node\n",
    "        - title: person name\n",
    "        - info: event titles and links that the person is mentioned in\n",
    "        - color: same color for all persons, using a compatible color from the palette as the event-nodes\n",
    "        - size: growing with number of events\n",
    "    6. Color of the link will be grey\n",
    "    7. Layout of the graph will be force-directed\n",
    "    8. We will display people names on nodes but not event names \n",
    "\n"
   ]
  },
  {
   "cell_type": "code",
   "execution_count": null,
   "metadata": {},
   "outputs": [],
   "source": [
    "import os\n",
    "import re\n",
    "import pandas as pd\n",
    "import csv\n",
    "import numpy as np"
   ]
  },
  {
   "cell_type": "code",
   "execution_count": null,
   "metadata": {},
   "outputs": [],
   "source": [
    "# Reformat the events csv for the event-node"
   ]
  }
 ],
 "metadata": {
  "kernelspec": {
   "display_name": "cesta",
   "language": "python",
   "name": "python3"
  },
  "language_info": {
   "name": "python",
   "version": "3.12.2"
  }
 },
 "nbformat": 4,
 "nbformat_minor": 2
}
